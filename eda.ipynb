{
  "nbformat": 4,
  "nbformat_minor": 0,
  "metadata": {
    "colab": {
      "name": "Stemaway",
      "provenance": [],
      "collapsed_sections": []
    },
    "kernelspec": {
      "name": "python3",
      "display_name": "Python 3"
    },
    "language_info": {
      "name": "python"
    }
  },
  "cells": [
    {
      "cell_type": "code",
      "metadata": {
        "id": "d5Pce3-qq-T5"
      },
      "source": [
        "import pandas as pd\n",
        "train = pd.read_csv('cartalk_stemaway.csv', index_col='Number')"
      ],
      "execution_count": 3,
      "outputs": []
    },
    {
      "cell_type": "code",
      "metadata": {
        "id": "7HlA0k4oy9F8",
        "colab": {
          "base_uri": "https://localhost:8080/"
        },
        "outputId": "85fb5755-42b1-4106-f78c-e15fc2ca51d5"
      },
      "source": [
        "train.head()\n",
        "train.keys()"
      ],
      "execution_count": 4,
      "outputs": [
        {
          "output_type": "execute_result",
          "data": {
            "text/plain": [
              "Index(['Topic Title', 'Category', 'Tags', 'Author', 'Commenters',\n",
              "       'Leading Comment', 'Other Comments', 'Likes', 'Views'],\n",
              "      dtype='object')"
            ]
          },
          "metadata": {
            "tags": []
          },
          "execution_count": 4
        }
      ]
    },
    {
      "cell_type": "code",
      "metadata": {
        "id": "2BBSgSFNzEWm",
        "colab": {
          "base_uri": "https://localhost:8080/",
          "height": 235
        },
        "outputId": "f022aa70-91d5-4159-bbc9-e1a2cd7ed512"
      },
      "source": [
        "train['Title Word Count'] = train['Topic Title'].apply(lambda x: len(str(x).split()))\n",
        "train[['Topic Title', \"Title Word Count\"]].head()"
      ],
      "execution_count": 5,
      "outputs": [
        {
          "output_type": "execute_result",
          "data": {
            "text/html": [
              "<div>\n",
              "<style scoped>\n",
              "    .dataframe tbody tr th:only-of-type {\n",
              "        vertical-align: middle;\n",
              "    }\n",
              "\n",
              "    .dataframe tbody tr th {\n",
              "        vertical-align: top;\n",
              "    }\n",
              "\n",
              "    .dataframe thead th {\n",
              "        text-align: right;\n",
              "    }\n",
              "</style>\n",
              "<table border=\"1\" class=\"dataframe\">\n",
              "  <thead>\n",
              "    <tr style=\"text-align: right;\">\n",
              "      <th></th>\n",
              "      <th>Topic Title</th>\n",
              "      <th>Title Word Count</th>\n",
              "    </tr>\n",
              "    <tr>\n",
              "      <th>Number</th>\n",
              "      <th></th>\n",
              "      <th></th>\n",
              "    </tr>\n",
              "  </thead>\n",
              "  <tbody>\n",
              "    <tr>\n",
              "      <th>0</th>\n",
              "      <td>About the Buying/Selling category</td>\n",
              "      <td>4</td>\n",
              "    </tr>\n",
              "    <tr>\n",
              "      <th>1</th>\n",
              "      <td>New Car Salesperson Commissions</td>\n",
              "      <td>4</td>\n",
              "    </tr>\n",
              "    <tr>\n",
              "      <th>2</th>\n",
              "      <td>Best used car to buy for long road trips?</td>\n",
              "      <td>9</td>\n",
              "    </tr>\n",
              "    <tr>\n",
              "      <th>3</th>\n",
              "      <td>Honda Element any good?</td>\n",
              "      <td>4</td>\n",
              "    </tr>\n",
              "    <tr>\n",
              "      <th>4</th>\n",
              "      <td>1993 4Runner vs 2011 Mazda3 Hatch</td>\n",
              "      <td>6</td>\n",
              "    </tr>\n",
              "  </tbody>\n",
              "</table>\n",
              "</div>"
            ],
            "text/plain": [
              "                                      Topic Title  Title Word Count\n",
              "Number                                                             \n",
              "0               About the Buying/Selling category                 4\n",
              "1                 New Car Salesperson Commissions                 4\n",
              "2       Best used car to buy for long road trips?                 9\n",
              "3                         Honda Element any good?                 4\n",
              "4               1993 4Runner vs 2011 Mazda3 Hatch                 6"
            ]
          },
          "metadata": {
            "tags": []
          },
          "execution_count": 5
        }
      ]
    },
    {
      "cell_type": "code",
      "metadata": {
        "id": "oyu4wdBm0egg",
        "colab": {
          "base_uri": "https://localhost:8080/",
          "height": 235
        },
        "outputId": "c7ae1b26-dc2d-4221-873c-112952e53ce5"
      },
      "source": [
        "train['Title Characters'] = train['Topic Title'].str.len()\n",
        "train[['Topic Title', 'Title Characters']].head()"
      ],
      "execution_count": 6,
      "outputs": [
        {
          "output_type": "execute_result",
          "data": {
            "text/html": [
              "<div>\n",
              "<style scoped>\n",
              "    .dataframe tbody tr th:only-of-type {\n",
              "        vertical-align: middle;\n",
              "    }\n",
              "\n",
              "    .dataframe tbody tr th {\n",
              "        vertical-align: top;\n",
              "    }\n",
              "\n",
              "    .dataframe thead th {\n",
              "        text-align: right;\n",
              "    }\n",
              "</style>\n",
              "<table border=\"1\" class=\"dataframe\">\n",
              "  <thead>\n",
              "    <tr style=\"text-align: right;\">\n",
              "      <th></th>\n",
              "      <th>Topic Title</th>\n",
              "      <th>Title Characters</th>\n",
              "    </tr>\n",
              "    <tr>\n",
              "      <th>Number</th>\n",
              "      <th></th>\n",
              "      <th></th>\n",
              "    </tr>\n",
              "  </thead>\n",
              "  <tbody>\n",
              "    <tr>\n",
              "      <th>0</th>\n",
              "      <td>About the Buying/Selling category</td>\n",
              "      <td>33</td>\n",
              "    </tr>\n",
              "    <tr>\n",
              "      <th>1</th>\n",
              "      <td>New Car Salesperson Commissions</td>\n",
              "      <td>31</td>\n",
              "    </tr>\n",
              "    <tr>\n",
              "      <th>2</th>\n",
              "      <td>Best used car to buy for long road trips?</td>\n",
              "      <td>41</td>\n",
              "    </tr>\n",
              "    <tr>\n",
              "      <th>3</th>\n",
              "      <td>Honda Element any good?</td>\n",
              "      <td>23</td>\n",
              "    </tr>\n",
              "    <tr>\n",
              "      <th>4</th>\n",
              "      <td>1993 4Runner vs 2011 Mazda3 Hatch</td>\n",
              "      <td>33</td>\n",
              "    </tr>\n",
              "  </tbody>\n",
              "</table>\n",
              "</div>"
            ],
            "text/plain": [
              "                                      Topic Title  Title Characters\n",
              "Number                                                             \n",
              "0               About the Buying/Selling category                33\n",
              "1                 New Car Salesperson Commissions                31\n",
              "2       Best used car to buy for long road trips?                41\n",
              "3                         Honda Element any good?                23\n",
              "4               1993 4Runner vs 2011 Mazda3 Hatch                33"
            ]
          },
          "metadata": {
            "tags": []
          },
          "execution_count": 6
        }
      ]
    },
    {
      "cell_type": "code",
      "metadata": {
        "id": "4n1hDbv60tDt",
        "colab": {
          "base_uri": "https://localhost:8080/",
          "height": 235
        },
        "outputId": "53eb4c48-389e-4f8e-9bd7-4e379e31c58c"
      },
      "source": [
        "train['Title Average Word Length'] = train['Title Characters']/train['Title Word Count']\n",
        "train[['Topic Title', 'Title Average Word Length']].head()"
      ],
      "execution_count": 7,
      "outputs": [
        {
          "output_type": "execute_result",
          "data": {
            "text/html": [
              "<div>\n",
              "<style scoped>\n",
              "    .dataframe tbody tr th:only-of-type {\n",
              "        vertical-align: middle;\n",
              "    }\n",
              "\n",
              "    .dataframe tbody tr th {\n",
              "        vertical-align: top;\n",
              "    }\n",
              "\n",
              "    .dataframe thead th {\n",
              "        text-align: right;\n",
              "    }\n",
              "</style>\n",
              "<table border=\"1\" class=\"dataframe\">\n",
              "  <thead>\n",
              "    <tr style=\"text-align: right;\">\n",
              "      <th></th>\n",
              "      <th>Topic Title</th>\n",
              "      <th>Title Average Word Length</th>\n",
              "    </tr>\n",
              "    <tr>\n",
              "      <th>Number</th>\n",
              "      <th></th>\n",
              "      <th></th>\n",
              "    </tr>\n",
              "  </thead>\n",
              "  <tbody>\n",
              "    <tr>\n",
              "      <th>0</th>\n",
              "      <td>About the Buying/Selling category</td>\n",
              "      <td>8.250000</td>\n",
              "    </tr>\n",
              "    <tr>\n",
              "      <th>1</th>\n",
              "      <td>New Car Salesperson Commissions</td>\n",
              "      <td>7.750000</td>\n",
              "    </tr>\n",
              "    <tr>\n",
              "      <th>2</th>\n",
              "      <td>Best used car to buy for long road trips?</td>\n",
              "      <td>4.555556</td>\n",
              "    </tr>\n",
              "    <tr>\n",
              "      <th>3</th>\n",
              "      <td>Honda Element any good?</td>\n",
              "      <td>5.750000</td>\n",
              "    </tr>\n",
              "    <tr>\n",
              "      <th>4</th>\n",
              "      <td>1993 4Runner vs 2011 Mazda3 Hatch</td>\n",
              "      <td>5.500000</td>\n",
              "    </tr>\n",
              "  </tbody>\n",
              "</table>\n",
              "</div>"
            ],
            "text/plain": [
              "                                      Topic Title  Title Average Word Length\n",
              "Number                                                                      \n",
              "0               About the Buying/Selling category                   8.250000\n",
              "1                 New Car Salesperson Commissions                   7.750000\n",
              "2       Best used car to buy for long road trips?                   4.555556\n",
              "3                         Honda Element any good?                   5.750000\n",
              "4               1993 4Runner vs 2011 Mazda3 Hatch                   5.500000"
            ]
          },
          "metadata": {
            "tags": []
          },
          "execution_count": 7
        }
      ]
    },
    {
      "cell_type": "code",
      "metadata": {
        "id": "RIwfWtOu1fWO",
        "colab": {
          "base_uri": "https://localhost:8080/"
        },
        "outputId": "f97944e8-f94b-490f-ea65-7b624e21fd4a"
      },
      "source": [
        "pip install nltk"
      ],
      "execution_count": 8,
      "outputs": [
        {
          "output_type": "stream",
          "text": [
            "Requirement already satisfied: nltk in /usr/local/lib/python3.7/dist-packages (3.2.5)\n",
            "Requirement already satisfied: six in /usr/local/lib/python3.7/dist-packages (from nltk) (1.15.0)\n"
          ],
          "name": "stdout"
        }
      ]
    },
    {
      "cell_type": "code",
      "metadata": {
        "id": "Wm5QlOcm1hWl",
        "colab": {
          "base_uri": "https://localhost:8080/"
        },
        "outputId": "78ecdb2a-25d6-4e5e-cece-214dfb600f54"
      },
      "source": [
        "import nltk\n",
        "nltk.download('stopwords')\n",
        "stop = nltk.corpus.stopwords.words('english')"
      ],
      "execution_count": 9,
      "outputs": [
        {
          "output_type": "stream",
          "text": [
            "[nltk_data] Downloading package stopwords to /root/nltk_data...\n",
            "[nltk_data]   Unzipping corpora/stopwords.zip.\n"
          ],
          "name": "stdout"
        }
      ]
    },
    {
      "cell_type": "code",
      "metadata": {
        "id": "8iCXueCw2Bhd",
        "colab": {
          "base_uri": "https://localhost:8080/",
          "height": 235
        },
        "outputId": "30b066d5-3ae2-42dd-d6ad-f08d58d081f8"
      },
      "source": [
        "train['Title Stopwords'] = train['Topic Title'].apply(lambda x: len([x for x in x.split() if x in stop]))\n",
        "train[['Topic Title', 'Title Stopwords']].head()"
      ],
      "execution_count": 10,
      "outputs": [
        {
          "output_type": "execute_result",
          "data": {
            "text/html": [
              "<div>\n",
              "<style scoped>\n",
              "    .dataframe tbody tr th:only-of-type {\n",
              "        vertical-align: middle;\n",
              "    }\n",
              "\n",
              "    .dataframe tbody tr th {\n",
              "        vertical-align: top;\n",
              "    }\n",
              "\n",
              "    .dataframe thead th {\n",
              "        text-align: right;\n",
              "    }\n",
              "</style>\n",
              "<table border=\"1\" class=\"dataframe\">\n",
              "  <thead>\n",
              "    <tr style=\"text-align: right;\">\n",
              "      <th></th>\n",
              "      <th>Topic Title</th>\n",
              "      <th>Title Stopwords</th>\n",
              "    </tr>\n",
              "    <tr>\n",
              "      <th>Number</th>\n",
              "      <th></th>\n",
              "      <th></th>\n",
              "    </tr>\n",
              "  </thead>\n",
              "  <tbody>\n",
              "    <tr>\n",
              "      <th>0</th>\n",
              "      <td>About the Buying/Selling category</td>\n",
              "      <td>1</td>\n",
              "    </tr>\n",
              "    <tr>\n",
              "      <th>1</th>\n",
              "      <td>New Car Salesperson Commissions</td>\n",
              "      <td>0</td>\n",
              "    </tr>\n",
              "    <tr>\n",
              "      <th>2</th>\n",
              "      <td>Best used car to buy for long road trips?</td>\n",
              "      <td>2</td>\n",
              "    </tr>\n",
              "    <tr>\n",
              "      <th>3</th>\n",
              "      <td>Honda Element any good?</td>\n",
              "      <td>1</td>\n",
              "    </tr>\n",
              "    <tr>\n",
              "      <th>4</th>\n",
              "      <td>1993 4Runner vs 2011 Mazda3 Hatch</td>\n",
              "      <td>0</td>\n",
              "    </tr>\n",
              "  </tbody>\n",
              "</table>\n",
              "</div>"
            ],
            "text/plain": [
              "                                      Topic Title  Title Stopwords\n",
              "Number                                                            \n",
              "0               About the Buying/Selling category                1\n",
              "1                 New Car Salesperson Commissions                0\n",
              "2       Best used car to buy for long road trips?                2\n",
              "3                         Honda Element any good?                1\n",
              "4               1993 4Runner vs 2011 Mazda3 Hatch                0"
            ]
          },
          "metadata": {
            "tags": []
          },
          "execution_count": 10
        }
      ]
    },
    {
      "cell_type": "code",
      "metadata": {
        "id": "2f4MODzr0CNT"
      },
      "source": [
        "train['Discussion'] = train['Topic Title'] + ' ' + train['Leading Comment'] + ' ' + ' '.join(str(a) for a in train['Other Comments'])"
      ],
      "execution_count": null,
      "outputs": []
    },
    {
      "cell_type": "code",
      "metadata": {
        "id": "RxViMiVg0DC-"
      },
      "source": [
        "train['Discussion Word Count'] = train['Discussion'].apply(lambda x: len(str(x).split()))\n",
        "train[['Discussion', \"Discussion Word Count\"]].head()"
      ],
      "execution_count": null,
      "outputs": []
    },
    {
      "cell_type": "code",
      "metadata": {
        "id": "-xEWtVp50Fut"
      },
      "source": [
        "train['Discussion Characters'] = train['Discussion'].str.len()\n",
        "train[['Discussion', 'Discussion Characters']].head()"
      ],
      "execution_count": null,
      "outputs": []
    },
    {
      "cell_type": "code",
      "metadata": {
        "id": "4TAQ7Enl0IPj"
      },
      "source": [
        "train['Title Average Word Length'] = train['Title Characters']/train['Title Word Count']\n",
        "train[['Discussion', 'Discussion Average Word Length']].head()"
      ],
      "execution_count": null,
      "outputs": []
    },
    {
      "cell_type": "code",
      "metadata": {
        "id": "sxuooUH90Jie"
      },
      "source": [
        "train['Title Stopwords'] = train['Discussion'].apply(lambda x: len([x for x in x.split() if x in stop]))\n",
        "train[['Discussion', 'Discussion Stopwords']].head()"
      ],
      "execution_count": null,
      "outputs": []
    },
    {
      "cell_type": "markdown",
      "metadata": {
        "id": "DVBrpwuI0LvR"
      },
      "source": [
        "Cleanup"
      ]
    },
    {
      "cell_type": "code",
      "metadata": {
        "id": "TiDXNnpf0NxR"
      },
      "source": [
        "train['Discussion'] = train['Discussion'].apply(lambda x: \" \".join(x.lower() for x in x.split()))\n",
        "train['Discussion'].head()"
      ],
      "execution_count": null,
      "outputs": []
    },
    {
      "cell_type": "code",
      "metadata": {
        "id": "TTqTGJ5O0Q2D"
      },
      "source": [
        "train['Discussion'] = train['Discussion'].str.replace('[^\\w\\s]','')\n",
        "train['Discussion'].head()"
      ],
      "execution_count": null,
      "outputs": []
    },
    {
      "cell_type": "code",
      "metadata": {
        "id": "fOTux9DL0R4j"
      },
      "source": [
        "train['Discussion'] = train['Discussion'].apply(lambda x: \" \".join(x for x in x.split() if x not in stop))\n",
        "train['Discussion'].head()"
      ],
      "execution_count": null,
      "outputs": []
    },
    {
      "cell_type": "code",
      "metadata": {
        "id": "ymYOOOGY0TqK"
      },
      "source": [
        "frequent_words = pd.Series(' '.join(train['Discussion']).split()).value_counts()[:5]\n",
        "frequent_words = list(frequent_words.index)"
      ],
      "execution_count": null,
      "outputs": []
    },
    {
      "cell_type": "code",
      "metadata": {
        "id": "WreCkIFw0Uyz"
      },
      "source": [
        "pip install textblob"
      ],
      "execution_count": null,
      "outputs": []
    },
    {
      "cell_type": "code",
      "metadata": {
        "id": "BiORgS6z0WcZ"
      },
      "source": [
        "import textblob\n",
        "tb = textblob.TextBlob\n",
        "train['Discussion'][:10].apply(lambda x: str(tb(x).correct()))\n",
        "train['Discussion'].head()"
      ],
      "execution_count": null,
      "outputs": []
    },
    {
      "cell_type": "code",
      "metadata": {
        "id": "PigDfjXU0ZFJ"
      },
      "source": [
        "st = nltk.stem.PortStremmer\n",
        "train['Discussion'].apply(lambda x: \" \".join([st.stem(word) for word in x.split()]))\n",
        "train['Discussion'].head()"
      ],
      "execution_count": null,
      "outputs": []
    },
    {
      "cell_type": "code",
      "metadata": {
        "id": "B-YrvDZt0atR"
      },
      "source": [
        "nltk.download('wordnet')\n",
        "train['Discussion'] = train['Discussion'].apply(lambda x: \" \".join([textblob.Word(word).lemmatize() for word in x.split()]))"
      ],
      "execution_count": null,
      "outputs": []
    },
    {
      "cell_type": "code",
      "metadata": {
        "id": "pLKHlAOC0cBl"
      },
      "source": [
        "train[\"N-grams\"] = list(tb(train['Discussion']).ngrams(3))\n",
        "train['Discussion'].head()"
      ],
      "execution_count": null,
      "outputs": []
    }
  ]
}